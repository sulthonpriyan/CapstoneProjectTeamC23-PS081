{
  "nbformat": 4,
  "nbformat_minor": 0,
  "metadata": {
    "colab": {
      "provenance": []
    },
    "kernelspec": {
      "name": "python3",
      "display_name": "Python 3"
    },
    "language_info": {
      "name": "python"
    }
  },
  "cells": [
    {
      "cell_type": "code",
      "execution_count": null,
      "metadata": {
        "id": "WQdqcS3IEIKV"
      },
      "outputs": [],
      "source": [
        "import pandas as pd\n",
        "import re\n",
        "import math\n",
        "import tensorflow as tf"
      ]
    },
    {
      "cell_type": "code",
      "source": [
        "sheet_id = '1loW65RmnbzxOxmqNIMfbSoiBQeQARgRkFRLFGa2IWgA'\n",
        "data = pd.read_csv(f\"https://docs.google.com/spreadsheets/d/{sheet_id}/export?format=csv\")"
      ],
      "metadata": {
        "id": "lVBvLC76ELIN"
      },
      "execution_count": null,
      "outputs": []
    },
    {
      "cell_type": "code",
      "source": [
        "# data = pd.read_excel('/content/drive/MyDrive/Data.xlsx')\n",
        "# data = data.dropna()\n",
        "# data.head()"
      ],
      "metadata": {
        "id": "ALoOce2_ENPa"
      },
      "execution_count": null,
      "outputs": []
    },
    {
      "cell_type": "code",
      "source": [
        "#array for case that easier to solve than using regex\n",
        "specialcasepupuk={}\n",
        "specialcasebuah={}\n",
        "specialcasebibit={}\n",
        "specialcasebahanolahan={}\n",
        "len(data)"
      ],
      "metadata": {
        "id": "VQXg9LgTEkLY",
        "colab": {
          "base_uri": "https://localhost:8080/"
        },
        "outputId": "d2a168a7-eda3-4454-e2ac-93b30f186dd4"
      },
      "execution_count": null,
      "outputs": [
        {
          "output_type": "execute_result",
          "data": {
            "text/plain": [
              "53"
            ]
          },
          "metadata": {},
          "execution_count": 58
        }
      ]
    },
    {
      "cell_type": "code",
      "source": [],
      "metadata": {
        "id": "ZY91bU12ErbK"
      },
      "execution_count": null,
      "outputs": []
    },
    {
      "cell_type": "code",
      "source": [
        "#get food row from pandas dataframe and make it lowercase\n",
        "pupukarr=data['Apa produk pertanian berupa PUPUK yang sering kamu temui, dan tertarik untuk mencari tahu informasinya lebih lanjut ?'].str.lower().str.strip(' ')\n",
        "pupukarr"
      ],
      "metadata": {
        "id": "wV0xQRF-EvtS",
        "colab": {
          "base_uri": "https://localhost:8080/"
        },
        "outputId": "0af12163-8981-46af-c985-05b85fa6c949"
      },
      "execution_count": null,
      "outputs": [
        {
          "output_type": "execute_result",
          "data": {
            "text/plain": [
              "0     pupuk cair, pupuk organik, pupuk anorganik, pu...\n",
              "1                                         pupuk organik\n",
              "2     pupuk kambing, pupuk kompos, pupuk npk, pupuk ...\n",
              "3                                            pupuk cair\n",
              "4                                          pupuk kompos\n",
              "5                                                   NaN\n",
              "6     pupuk cair, pupuk organik, pupuk anorganik, pu...\n",
              "7                                                   NaN\n",
              "8     pupuk cair, pupuk organik, pupuk anorganik, pu...\n",
              "9                                                   NaN\n",
              "10                                                  NaN\n",
              "11    pupuk cair, pupuk organik, pupuk anorganik, pu...\n",
              "12                                                  NaN\n",
              "13    pupuk cair, pupuk organik, pupuk anorganik, pu...\n",
              "14                                                  NaN\n",
              "15    pupuk cair, pupuk organik, pupuk anorganik, pu...\n",
              "16                                                  NaN\n",
              "17    pupuk cair, pupuk organik, pupuk anorganik, pu...\n",
              "18                                                  NaN\n",
              "19    pupuk kambing, pupuk kompos, pupuk npk, pupuk ...\n",
              "20                          pupuk organik, pupuk kompos\n",
              "21    pupuk kambing, pupuk kompos, pupuk npk, pupuk ...\n",
              "22                                                  NaN\n",
              "23                                                  NaN\n",
              "24    pupuk kambing, pupuk kompos, pupuk npk, pupuk ...\n",
              "25                                                  NaN\n",
              "26    pupuk kambing, pupuk kompos, pupuk npk, pupuk ...\n",
              "27                                                  NaN\n",
              "28    pupuk kambing, pupuk kompos, pupuk npk, pupuk ...\n",
              "29                                                  NaN\n",
              "30    pupuk kambing, pupuk kompos, pupuk npk, pupuk ...\n",
              "31                                                  NaN\n",
              "32                                                  NaN\n",
              "33                                                  NaN\n",
              "34                                                  NaN\n",
              "35                                                  NaN\n",
              "36                                        pupuk organik\n",
              "37                                        pupuk kambing\n",
              "38                                                  NaN\n",
              "39                                                  NaN\n",
              "40                                        pupuk organik\n",
              "41                                         pupuk kompos\n",
              "42                                                  NaN\n",
              "43                                        pupuk kambing\n",
              "44                                                  NaN\n",
              "45                                        pupuk phonska\n",
              "46                                        pupuk phonska\n",
              "47                                                  NaN\n",
              "48                                                  NaN\n",
              "49                                        pupuk phonska\n",
              "50                                                  NaN\n",
              "51                                                  NaN\n",
              "52                                           pupuk cair\n",
              "Name: Apa produk pertanian berupa PUPUK yang sering kamu temui, dan tertarik untuk mencari tahu informasinya lebih lanjut ?, dtype: object"
            ]
          },
          "metadata": {},
          "execution_count": 59
        }
      ]
    },
    {
      "cell_type": "code",
      "source": [
        "pupukdict = {}\n",
        "\n",
        "for i in pupukarr:\n",
        "    # Check if the element is a string\n",
        "        # Use a dictionary to prevent duplicates\n",
        "        temp=dict.fromkeys(str(i).split(', '))\n",
        "        for j in temp:\n",
        "            if j not in specialcasepupuk:\n",
        "                processedname = j\n",
        "                if processedname in pupukdict:\n",
        "                    pupukdict[processedname] += 1\n",
        "                else:\n",
        "                    pupukdict[processedname] = 1\n",
        "            else:\n",
        "                entry = specialcasepupuk[j]\n",
        "                processedname = entry.replace(' ', '')\n",
        "                if processedname in pupukdict:\n",
        "                    pupukdict[processedname] += 1\n",
        "                else:\n",
        "                    pupukdict[processedname] = 1\n",
        "\n",
        "print(pupukdict)"
      ],
      "metadata": {
        "colab": {
          "base_uri": "https://localhost:8080/"
        },
        "id": "H2rOB1HTCbg7",
        "outputId": "3dd89ec1-54c4-47c4-f14e-e6a686d50f47"
      },
      "execution_count": null,
      "outputs": [
        {
          "output_type": "stream",
          "name": "stdout",
          "text": [
            "{'pupuk cair': 9, 'pupuk organik': 11, 'pupuk anorganik': 7, 'pupuk kambing': 15, 'pupuk kompos': 10, 'pupuk npk': 7, 'pupuk phonska': 11, 'nan': 26}\n"
          ]
        }
      ]
    },
    {
      "cell_type": "code",
      "source": [
        "#view the data, sorted by amount\n",
        "dict(sorted(pupukdict.items(), key=lambda item: item[1]))"
      ],
      "metadata": {
        "colab": {
          "base_uri": "https://localhost:8080/"
        },
        "id": "ux3QUzVzE3WS",
        "outputId": "2840962f-07ec-409d-8e32-90d41aeee2d1"
      },
      "execution_count": null,
      "outputs": [
        {
          "output_type": "execute_result",
          "data": {
            "text/plain": [
              "{'pupuk anorganik': 7,\n",
              " 'pupuk npk': 7,\n",
              " 'pupuk cair': 9,\n",
              " 'pupuk kompos': 10,\n",
              " 'pupuk organik': 11,\n",
              " 'pupuk phonska': 11,\n",
              " 'pupuk kambing': 15,\n",
              " 'nan': 26}"
            ]
          },
          "metadata": {},
          "execution_count": 61
        }
      ]
    },
    {
      "cell_type": "code",
      "source": [
        "pupuk_cat=pd.CategoricalIndex(pupukdict)"
      ],
      "metadata": {
        "id": "NVVtY_xUFHac"
      },
      "execution_count": null,
      "outputs": []
    },
    {
      "cell_type": "code",
      "source": [
        "#use pandas to turn the data into categorical index\n",
        "pupuk_cat=pd.CategoricalIndex(pupukdict)\n",
        "#make hot encoded food array\n",
        "hotencoded_pupukarr=[]\n",
        "for i in pupukarr:\n",
        "    temparr=[]\n",
        "    if isinstance(i, str):\n",
        "      temp=dict.fromkeys(i.split(', '))\n",
        "      for j in pupuk_cat:\n",
        "          if j in i.split(', '):\n",
        "              temparr.append(1)\n",
        "          else:\n",
        "              temparr.append(0)\n",
        "      hotencoded_pupukarr.append(temparr)"
      ],
      "metadata": {
        "id": "CqTZ-MQ9E5xB"
      },
      "execution_count": null,
      "outputs": []
    },
    {
      "cell_type": "code",
      "source": [
        "len(hotencoded_pupukarr)"
      ],
      "metadata": {
        "colab": {
          "base_uri": "https://localhost:8080/"
        },
        "id": "5ddn_2CtIE2Z",
        "outputId": "fbdf71d1-80a5-4f70-8b78-786bd2d7bb4d"
      },
      "execution_count": null,
      "outputs": [
        {
          "output_type": "execute_result",
          "data": {
            "text/plain": [
              "27"
            ]
          },
          "metadata": {},
          "execution_count": 64
        }
      ]
    },
    {
      "cell_type": "code",
      "source": [
        "#get food row from pandas dataframe and make it lowercase\n",
        "bibitarr=data['Apa produk pertanian berupa BIBIT/BIJI yang sering kamu temui, dan tertarik untuk mencari tahu informasinya lebih lanjut ?'].str.lower().str.strip(' ')"
      ],
      "metadata": {
        "id": "ItotLIURGgrk"
      },
      "execution_count": null,
      "outputs": []
    },
    {
      "cell_type": "code",
      "source": [
        "#count the amount of bibit, picked from survey\n",
        "bibitdict={}\n",
        "for i in bibitarr:\n",
        "  if isinstance(i, str):\n",
        "    #use dict to prevent duplicate\n",
        "    temp=dict.fromkeys(i.split(', '))\n",
        "    #split the data\n",
        "    for j in temp:\n",
        "        if j not in specialcasebibit:\n",
        "            processedname=j\n",
        "            if j in bibitdict:\n",
        "                bibitdict[processedname]=bibitdict[processedname]+1\n",
        "            else:\n",
        "                bibitdict[processedname]=1\n",
        "        else:\n",
        "            entry=specialcasebibit[j]\n",
        "            processedname=entry.replace(' ',\"\")\n",
        "            if entry in bibitdict:\n",
        "                bibitdict[processedname]=bibitdict[processedname]+1\n",
        "            else:\n",
        "                bibitdict[processedname]=1"
      ],
      "metadata": {
        "id": "6epxuBVCGjCg"
      },
      "execution_count": null,
      "outputs": []
    },
    {
      "cell_type": "code",
      "source": [
        "#view the data, sorted by amount\n",
        "dict(sorted(bibitdict.items(), key=lambda item: item[1]))"
      ],
      "metadata": {
        "colab": {
          "base_uri": "https://localhost:8080/"
        },
        "id": "IgPcE34TGlx5",
        "outputId": "90a79c9e-59c0-45ca-e9cd-caaa668f14c0"
      },
      "execution_count": null,
      "outputs": [
        {
          "output_type": "execute_result",
          "data": {
            "text/plain": [
              "{'bibit kelapa': 6,\n",
              " 'bibit durian': 7,\n",
              " 'bibit cengkih': 7,\n",
              " 'bibit randu': 7,\n",
              " 'bibit alpukat': 8,\n",
              " 'bibit kopi': 8,\n",
              " 'bibit cabai': 8,\n",
              " 'bibit mahoni': 8,\n",
              " 'bibit kelengkeng': 10}"
            ]
          },
          "metadata": {},
          "execution_count": 67
        }
      ]
    },
    {
      "cell_type": "code",
      "source": [
        "bibit_cat=pd.CategoricalIndex(bibitdict)"
      ],
      "metadata": {
        "id": "XjA91f5aGnqS"
      },
      "execution_count": null,
      "outputs": []
    },
    {
      "cell_type": "code",
      "source": [
        "#use pandas to turn the data into categorical index\n",
        "bibit_cat=pd.CategoricalIndex(bibitdict)\n",
        "#make hot encoded food array\n",
        "hotencoded_bibitarr=[]\n",
        "for i in bibitarr:\n",
        "    temparr=[]\n",
        "    if isinstance(i, str):\n",
        "      temp=dict.fromkeys(i.split(', '))\n",
        "      for j in bibit_cat:\n",
        "          if j in i.split(', '):\n",
        "              temparr.append(1)\n",
        "          else:\n",
        "              temparr.append(0)\n",
        "      hotencoded_bibitarr.append(temparr)"
      ],
      "metadata": {
        "id": "IAIf2XDbGpaw"
      },
      "execution_count": null,
      "outputs": []
    },
    {
      "cell_type": "code",
      "source": [
        "#get food row from pandas dataframe and make it lowercase\n",
        "buaharr=data['Apa produk pertanian berupa BUAH & SAYUR yang sering kamu temui, dan tertarik untuk mencari tahu informasinya lebih lanjut ?'].str.lower().str.strip(' ')"
      ],
      "metadata": {
        "id": "5oeAeN4qG-Tc"
      },
      "execution_count": null,
      "outputs": []
    },
    {
      "cell_type": "code",
      "source": [
        "#count the amount of buah, picked from survey\n",
        "buahdict={}\n",
        "for i in buaharr:\n",
        "  if isinstance(i, str):\n",
        "      #use dict to prevent duplicate\n",
        "      temp=dict.fromkeys(i.split(', '))\n",
        "      #skip if below threshold\n",
        "      #split the data\n",
        "      for j in temp:\n",
        "          if j not in specialcasebuah:\n",
        "              processedname=j\n",
        "              if j in buahdict:\n",
        "                  buahdict[processedname]=buahdict[processedname]+1\n",
        "              else:\n",
        "                  buahdict[processedname]=1\n",
        "          else:\n",
        "              entry=specialcasebuah[j]\n",
        "              processedname=entry.replace(' ',\"\")\n",
        "              if entry in buahdict:\n",
        "                  buahdict[processedname]=buahdict[processedname]+1\n",
        "              else:\n",
        "                  buahdict[processedname]=1"
      ],
      "metadata": {
        "id": "6ifV-tU5G-vZ"
      },
      "execution_count": null,
      "outputs": []
    },
    {
      "cell_type": "code",
      "source": [
        "#view the data, sorted by amount\n",
        "dict(sorted(buahdict.items(), key=lambda item: item[1]))"
      ],
      "metadata": {
        "colab": {
          "base_uri": "https://localhost:8080/"
        },
        "id": "iquYa_SYHBJU",
        "outputId": "79aefc5b-1d20-4395-8f1b-f4e075f0d885"
      },
      "execution_count": null,
      "outputs": [
        {
          "output_type": "execute_result",
          "data": {
            "text/plain": [
              "{'mangga': 2,\n",
              " 'belimbing': 2,\n",
              " 'jambu': 4,\n",
              " 'pepaya': 5,\n",
              " 'kelapa': 7,\n",
              " 'seledri': 9,\n",
              " 'bayam': 11,\n",
              " 'jeruk': 12,\n",
              " 'kangkung': 14,\n",
              " 'cabai': 14}"
            ]
          },
          "metadata": {},
          "execution_count": 72
        }
      ]
    },
    {
      "cell_type": "code",
      "source": [
        "buah_cat=pd.CategoricalIndex(buahdict)"
      ],
      "metadata": {
        "id": "yl8Vzt7KHCvp"
      },
      "execution_count": null,
      "outputs": []
    },
    {
      "cell_type": "code",
      "source": [
        "#use pandas to turn the data into categorical index\n",
        "buah_cat=pd.CategoricalIndex(buahdict)\n",
        "#make hot encoded food array\n",
        "hotencoded_buaharr=[]\n",
        "for i in buaharr:\n",
        "    temparr=[]\n",
        "    if isinstance(i, str):\n",
        "      temp=dict.fromkeys(i.split(', '))\n",
        "      for j in buah_cat:\n",
        "          if j in i.split(', '):\n",
        "              temparr.append(1)\n",
        "          else:\n",
        "              temparr.append(0)\n",
        "      hotencoded_buaharr.append(temparr)"
      ],
      "metadata": {
        "id": "7Fo370W0HETS"
      },
      "execution_count": null,
      "outputs": []
    },
    {
      "cell_type": "code",
      "source": [
        "#get food row from pandas dataframe and make it lowercase\n",
        "bahanolahanarr=data['Apa produk pertanian berupa BAHAN OLAHAN yang sering kamu temui, dan tertarik untuk mencari tahu informasinya lebih lanjut ?'].str.lower().str.strip(' ')"
      ],
      "metadata": {
        "id": "S3lhnlewHhKR"
      },
      "execution_count": null,
      "outputs": []
    },
    {
      "cell_type": "code",
      "source": [
        "#count the amount of bahanolahan, picked from survey\n",
        "bahanolahandict={}\n",
        "for i in bahanolahanarr:\n",
        "  if isinstance(i, str):\n",
        "      #use dict to prevent duplicate\n",
        "      temp=dict.fromkeys(i.split(', '))\n",
        "      #split the data\n",
        "      for j in temp:\n",
        "          if j not in specialcasebahanolahan:\n",
        "              processedname=j\n",
        "              if j in bahanolahandict:\n",
        "                  bahanolahandict[processedname]=bahanolahandict[processedname]+1\n",
        "              else:\n",
        "                  bahanolahandict[processedname]=1\n",
        "          else:\n",
        "              entry=specialcasebahanolahan[j]\n",
        "              processedname=entry.replace(' ',\"\")\n",
        "              if entry in bahanolahandict:\n",
        "                  bahanolahandict[processedname]=bahanolahandict[processedname]+1\n",
        "              else:\n",
        "                  bahanolahandict[processedname]=1"
      ],
      "metadata": {
        "id": "q7p9USgSIDT9"
      },
      "execution_count": null,
      "outputs": []
    },
    {
      "cell_type": "code",
      "source": [
        "#view the data, sorted by amount\n",
        "dict(sorted(bahanolahandict.items(), key=lambda item: item[1]))"
      ],
      "metadata": {
        "colab": {
          "base_uri": "https://localhost:8080/"
        },
        "id": "MjT7WFOnIF9-",
        "outputId": "a2e83eb0-8cbf-4ad5-eb98-bb577542c31f"
      },
      "execution_count": null,
      "outputs": [
        {
          "output_type": "execute_result",
          "data": {
            "text/plain": [
              "{'bubuk kunyit': 3,\n",
              " 'tepung mocaf': 4,\n",
              " 'bubuk lengkuas': 5,\n",
              " 'tepung tapioka': 7,\n",
              " 'bubuk jahe': 7,\n",
              " 'lada bubuk': 9,\n",
              " 'beras': 14,\n",
              " 'bubuk kopi': 18,\n",
              " 'madu': 21}"
            ]
          },
          "metadata": {},
          "execution_count": 77
        }
      ]
    },
    {
      "cell_type": "code",
      "source": [
        "bahanolahan_cat=pd.CategoricalIndex(bahanolahandict)"
      ],
      "metadata": {
        "id": "tf1JPR8hIHtG"
      },
      "execution_count": null,
      "outputs": []
    },
    {
      "cell_type": "code",
      "source": [
        "#use pandas to turn the data into categorical index\n",
        "bahanolahan_cat=pd.CategoricalIndex(bahanolahandict)\n",
        "#make hot encoded food array\n",
        "hotencoded_bahanolahanarr=[]\n",
        "for i in bahanolahanarr:\n",
        "    temparr=[]\n",
        "    if isinstance(i, str):\n",
        "      temp=dict.fromkeys(i.split(', '))\n",
        "      for j in bahanolahan_cat:\n",
        "          if j in i.split(', '):\n",
        "              temparr.append(1)\n",
        "          else:\n",
        "              temparr.append(0)\n",
        "      hotencoded_bahanolahanarr.append(temparr)"
      ],
      "metadata": {
        "id": "lm9g9VYWIJ_B"
      },
      "execution_count": null,
      "outputs": []
    },
    {
      "cell_type": "code",
      "source": [
        "label=[]\n",
        "rating=[]\n",
        "counter=0\n",
        "userarr=[]\n",
        "\n",
        "\n",
        "for i in range(len(hotencoded_pupukarr)):\n",
        "    if len(hotencoded_pupukarr[i])==0 or len(hotencoded_bibitarr[i])==0 or len(hotencoded_buaharr[i]) ==0 or len(hotencoded_bahanolahanarr[i]) ==0 :\n",
        "        counter+=1\n",
        "        continue\n",
        "    for j in range(len(hotencoded_pupukarr[i])):\n",
        "        label.append(pupuk_cat[j])\n",
        "        if hotencoded_pupukarr[i][j]:\n",
        "            rate=5\n",
        "        else:\n",
        "            rate=1\n",
        "        rating.append(rate)\n",
        "    for j in range(len(hotencoded_bibitarr[i])):\n",
        "        label.append(bibit_cat[j])\n",
        "        if hotencoded_bibitarr[i][j]:\n",
        "            rate=5\n",
        "        else:\n",
        "            rate=1\n",
        "        rating.append(rate)\n",
        "    for j in range(len(hotencoded_buaharr[i])):\n",
        "        label.append(buah_cat[j])\n",
        "        if hotencoded_buaharr[i][j]:\n",
        "            rate=5\n",
        "        else:\n",
        "            rate=1\n",
        "        rating.append(rate)\n",
        "    for j in range(len(hotencoded_bahanolahanarr[i])):\n",
        "        label.append(bahanolahan_cat[j])\n",
        "        if hotencoded_bahanolahanarr[i][j]:\n",
        "            rate=5\n",
        "        else:\n",
        "            rate=1\n",
        "        rating.append(rate)\n",
        "    userarr.append(counter)\n",
        "    counter+=1"
      ],
      "metadata": {
        "id": "Xn-eCmcdIZM4"
      },
      "execution_count": null,
      "outputs": []
    },
    {
      "cell_type": "code",
      "source": [
        "#generate user ID\n",
        "userid=[]\n",
        "total_cat=len(pupuk_cat)+len(buah_cat)+len(bibit_cat)+len(bahanolahan_cat)\n",
        "for i in range(len(label)):\n",
        "    userid.append(userarr[math.floor(i/total_cat)])"
      ],
      "metadata": {
        "id": "668dQYJfJn0n"
      },
      "execution_count": null,
      "outputs": []
    },
    {
      "cell_type": "code",
      "source": [
        "#Create the data and export it\n",
        "output=pd.DataFrame([userid,label,rating]).T.rename({0:'userid',1:'produkid',2:'rating'},axis=1)\n",
        "output.to_csv('Ekstrasi.csv',index=False)"
      ],
      "metadata": {
        "id": "meVxnZdmJ3pt"
      },
      "execution_count": null,
      "outputs": []
    },
    {
      "cell_type": "code",
      "source": [
        "from google.colab import files\n",
        "files.download('Ekstrasi.csv')"
      ],
      "metadata": {
        "colab": {
          "base_uri": "https://localhost:8080/",
          "height": 17
        },
        "id": "JEkVwikNHFtV",
        "outputId": "fba6cb4b-d90c-4c7c-f038-83fd7e4648b8"
      },
      "execution_count": null,
      "outputs": [
        {
          "output_type": "display_data",
          "data": {
            "text/plain": [
              "<IPython.core.display.Javascript object>"
            ],
            "application/javascript": [
              "\n",
              "    async function download(id, filename, size) {\n",
              "      if (!google.colab.kernel.accessAllowed) {\n",
              "        return;\n",
              "      }\n",
              "      const div = document.createElement('div');\n",
              "      const label = document.createElement('label');\n",
              "      label.textContent = `Downloading \"${filename}\": `;\n",
              "      div.appendChild(label);\n",
              "      const progress = document.createElement('progress');\n",
              "      progress.max = size;\n",
              "      div.appendChild(progress);\n",
              "      document.body.appendChild(div);\n",
              "\n",
              "      const buffers = [];\n",
              "      let downloaded = 0;\n",
              "\n",
              "      const channel = await google.colab.kernel.comms.open(id);\n",
              "      // Send a message to notify the kernel that we're ready.\n",
              "      channel.send({})\n",
              "\n",
              "      for await (const message of channel.messages) {\n",
              "        // Send a message to notify the kernel that we're ready.\n",
              "        channel.send({})\n",
              "        if (message.buffers) {\n",
              "          for (const buffer of message.buffers) {\n",
              "            buffers.push(buffer);\n",
              "            downloaded += buffer.byteLength;\n",
              "            progress.value = downloaded;\n",
              "          }\n",
              "        }\n",
              "      }\n",
              "      const blob = new Blob(buffers, {type: 'application/binary'});\n",
              "      const a = document.createElement('a');\n",
              "      a.href = window.URL.createObjectURL(blob);\n",
              "      a.download = filename;\n",
              "      div.appendChild(a);\n",
              "      a.click();\n",
              "      div.remove();\n",
              "    }\n",
              "  "
            ]
          },
          "metadata": {}
        },
        {
          "output_type": "display_data",
          "data": {
            "text/plain": [
              "<IPython.core.display.Javascript object>"
            ],
            "application/javascript": [
              "download(\"download_4fa335b5-4b77-4ebc-8911-a34154d0feea\", \"Ekstrasi.csv\", 14972)"
            ]
          },
          "metadata": {}
        }
      ]
    },
    {
      "cell_type": "code",
      "source": [
        "from typing import Dict, Text\n",
        "\n",
        "import numpy as np\n",
        "import pandas as pd"
      ],
      "metadata": {
        "id": "8V6aZc9OHM00"
      },
      "execution_count": null,
      "outputs": []
    },
    {
      "cell_type": "code",
      "source": [
        "produk2 = pd.read_csv('Ekstrasi.csv')\n",
        "produk2.head()"
      ],
      "metadata": {
        "colab": {
          "base_uri": "https://localhost:8080/",
          "height": 206
        },
        "id": "sDBiDBSrKHlT",
        "outputId": "134ce687-4a9e-4372-b1ca-ae1ea5bb676c"
      },
      "execution_count": null,
      "outputs": [
        {
          "output_type": "execute_result",
          "data": {
            "text/plain": [
              "   userid         produkid  rating\n",
              "0       0       pupuk cair       5\n",
              "1       0    pupuk organik       5\n",
              "2       0  pupuk anorganik       5\n",
              "3       0    pupuk kambing       5\n",
              "4       0     pupuk kompos       1"
            ],
            "text/html": [
              "\n",
              "  <div id=\"df-b3a27aea-a5b9-4ca6-a9de-52dd64c02a81\">\n",
              "    <div class=\"colab-df-container\">\n",
              "      <div>\n",
              "<style scoped>\n",
              "    .dataframe tbody tr th:only-of-type {\n",
              "        vertical-align: middle;\n",
              "    }\n",
              "\n",
              "    .dataframe tbody tr th {\n",
              "        vertical-align: top;\n",
              "    }\n",
              "\n",
              "    .dataframe thead th {\n",
              "        text-align: right;\n",
              "    }\n",
              "</style>\n",
              "<table border=\"1\" class=\"dataframe\">\n",
              "  <thead>\n",
              "    <tr style=\"text-align: right;\">\n",
              "      <th></th>\n",
              "      <th>userid</th>\n",
              "      <th>produkid</th>\n",
              "      <th>rating</th>\n",
              "    </tr>\n",
              "  </thead>\n",
              "  <tbody>\n",
              "    <tr>\n",
              "      <th>0</th>\n",
              "      <td>0</td>\n",
              "      <td>pupuk cair</td>\n",
              "      <td>5</td>\n",
              "    </tr>\n",
              "    <tr>\n",
              "      <th>1</th>\n",
              "      <td>0</td>\n",
              "      <td>pupuk organik</td>\n",
              "      <td>5</td>\n",
              "    </tr>\n",
              "    <tr>\n",
              "      <th>2</th>\n",
              "      <td>0</td>\n",
              "      <td>pupuk anorganik</td>\n",
              "      <td>5</td>\n",
              "    </tr>\n",
              "    <tr>\n",
              "      <th>3</th>\n",
              "      <td>0</td>\n",
              "      <td>pupuk kambing</td>\n",
              "      <td>5</td>\n",
              "    </tr>\n",
              "    <tr>\n",
              "      <th>4</th>\n",
              "      <td>0</td>\n",
              "      <td>pupuk kompos</td>\n",
              "      <td>1</td>\n",
              "    </tr>\n",
              "  </tbody>\n",
              "</table>\n",
              "</div>\n",
              "      <button class=\"colab-df-convert\" onclick=\"convertToInteractive('df-b3a27aea-a5b9-4ca6-a9de-52dd64c02a81')\"\n",
              "              title=\"Convert this dataframe to an interactive table.\"\n",
              "              style=\"display:none;\">\n",
              "        \n",
              "  <svg xmlns=\"http://www.w3.org/2000/svg\" height=\"24px\"viewBox=\"0 0 24 24\"\n",
              "       width=\"24px\">\n",
              "    <path d=\"M0 0h24v24H0V0z\" fill=\"none\"/>\n",
              "    <path d=\"M18.56 5.44l.94 2.06.94-2.06 2.06-.94-2.06-.94-.94-2.06-.94 2.06-2.06.94zm-11 1L8.5 8.5l.94-2.06 2.06-.94-2.06-.94L8.5 2.5l-.94 2.06-2.06.94zm10 10l.94 2.06.94-2.06 2.06-.94-2.06-.94-.94-2.06-.94 2.06-2.06.94z\"/><path d=\"M17.41 7.96l-1.37-1.37c-.4-.4-.92-.59-1.43-.59-.52 0-1.04.2-1.43.59L10.3 9.45l-7.72 7.72c-.78.78-.78 2.05 0 2.83L4 21.41c.39.39.9.59 1.41.59.51 0 1.02-.2 1.41-.59l7.78-7.78 2.81-2.81c.8-.78.8-2.07 0-2.86zM5.41 20L4 18.59l7.72-7.72 1.47 1.35L5.41 20z\"/>\n",
              "  </svg>\n",
              "      </button>\n",
              "      \n",
              "  <style>\n",
              "    .colab-df-container {\n",
              "      display:flex;\n",
              "      flex-wrap:wrap;\n",
              "      gap: 12px;\n",
              "    }\n",
              "\n",
              "    .colab-df-convert {\n",
              "      background-color: #E8F0FE;\n",
              "      border: none;\n",
              "      border-radius: 50%;\n",
              "      cursor: pointer;\n",
              "      display: none;\n",
              "      fill: #1967D2;\n",
              "      height: 32px;\n",
              "      padding: 0 0 0 0;\n",
              "      width: 32px;\n",
              "    }\n",
              "\n",
              "    .colab-df-convert:hover {\n",
              "      background-color: #E2EBFA;\n",
              "      box-shadow: 0px 1px 2px rgba(60, 64, 67, 0.3), 0px 1px 3px 1px rgba(60, 64, 67, 0.15);\n",
              "      fill: #174EA6;\n",
              "    }\n",
              "\n",
              "    [theme=dark] .colab-df-convert {\n",
              "      background-color: #3B4455;\n",
              "      fill: #D2E3FC;\n",
              "    }\n",
              "\n",
              "    [theme=dark] .colab-df-convert:hover {\n",
              "      background-color: #434B5C;\n",
              "      box-shadow: 0px 1px 3px 1px rgba(0, 0, 0, 0.15);\n",
              "      filter: drop-shadow(0px 1px 2px rgba(0, 0, 0, 0.3));\n",
              "      fill: #FFFFFF;\n",
              "    }\n",
              "  </style>\n",
              "\n",
              "      <script>\n",
              "        const buttonEl =\n",
              "          document.querySelector('#df-b3a27aea-a5b9-4ca6-a9de-52dd64c02a81 button.colab-df-convert');\n",
              "        buttonEl.style.display =\n",
              "          google.colab.kernel.accessAllowed ? 'block' : 'none';\n",
              "\n",
              "        async function convertToInteractive(key) {\n",
              "          const element = document.querySelector('#df-b3a27aea-a5b9-4ca6-a9de-52dd64c02a81');\n",
              "          const dataTable =\n",
              "            await google.colab.kernel.invokeFunction('convertToInteractive',\n",
              "                                                     [key], {});\n",
              "          if (!dataTable) return;\n",
              "\n",
              "          const docLinkHtml = 'Like what you see? Visit the ' +\n",
              "            '<a target=\"_blank\" href=https://colab.research.google.com/notebooks/data_table.ipynb>data table notebook</a>'\n",
              "            + ' to learn more about interactive tables.';\n",
              "          element.innerHTML = '';\n",
              "          dataTable['output_type'] = 'display_data';\n",
              "          await google.colab.output.renderOutput(dataTable, element);\n",
              "          const docLink = document.createElement('div');\n",
              "          docLink.innerHTML = docLinkHtml;\n",
              "          element.appendChild(docLink);\n",
              "        }\n",
              "      </script>\n",
              "    </div>\n",
              "  </div>\n",
              "  "
            ]
          },
          "metadata": {},
          "execution_count": 85
        }
      ]
    },
    {
      "cell_type": "code",
      "source": [
        "import pandas as pd\n",
        "produk6 = pd.Index(produk2['produkid'])\n",
        "produk6 = produk6.unique()\n",
        "print(produk6)"
      ],
      "metadata": {
        "colab": {
          "base_uri": "https://localhost:8080/"
        },
        "id": "1xDW610jYrRQ",
        "outputId": "1eb49a5f-68d0-4ad2-b151-cfe17cab845a"
      },
      "execution_count": null,
      "outputs": [
        {
          "output_type": "stream",
          "name": "stdout",
          "text": [
            "Index([      'pupuk cair',    'pupuk organik',  'pupuk anorganik',\n",
            "          'pupuk kambing',     'pupuk kompos',        'pupuk npk',\n",
            "          'pupuk phonska',                nan,    'bibit alpukat',\n",
            "             'bibit kopi',      'bibit cabai',     'bibit kelapa',\n",
            "       'bibit kelengkeng',     'bibit durian',     'bibit mahoni',\n",
            "          'bibit cengkih',      'bibit randu',         'kangkung',\n",
            "                  'jeruk',           'kelapa',            'cabai',\n",
            "                'seledri',            'bayam',           'pepaya',\n",
            "                 'mangga',            'jambu',        'belimbing',\n",
            "                  'beras',             'madu',       'bubuk kopi',\n",
            "         'bubuk lengkuas',   'tepung tapioka',     'bubuk kunyit',\n",
            "           'tepung mocaf',       'bubuk jahe',       'lada bubuk'],\n",
            "      dtype='object', name='produkid')\n"
          ]
        }
      ]
    },
    {
      "cell_type": "code",
      "source": [
        "#generate user ID\n",
        "produksort=[]\n",
        "total_cat=len(produk6)\n",
        "for i in range(len(produk6)):\n",
        "    produksort.append(math.floor(i+1))\n",
        "print(produksort)"
      ],
      "metadata": {
        "colab": {
          "base_uri": "https://localhost:8080/"
        },
        "id": "ydaunEy4Y4wl",
        "outputId": "acfa5006-7fb5-489f-dbdc-1687e411b8dd"
      },
      "execution_count": null,
      "outputs": [
        {
          "output_type": "stream",
          "name": "stdout",
          "text": [
            "[1, 2, 3, 4, 5, 6, 7, 8, 9, 10, 11, 12, 13, 14, 15, 16, 17, 18, 19, 20, 21, 22, 23, 24, 25, 26, 27, 28, 29, 30, 31, 32, 33, 34, 35, 36]\n"
          ]
        }
      ]
    },
    {
      "cell_type": "code",
      "source": [
        "#Create the data and export it\n",
        "output=pd.DataFrame([produksort,produk6]).T.rename({0:'produkid',1:'produkname'},axis=1)\n",
        "output.to_csv('produk.csv',index=False)"
      ],
      "metadata": {
        "id": "QbGqrsC7VEdn"
      },
      "execution_count": null,
      "outputs": []
    },
    {
      "cell_type": "code",
      "source": [
        "from google.colab import files\n",
        "files.download('produk.csv')"
      ],
      "metadata": {
        "colab": {
          "base_uri": "https://localhost:8080/",
          "height": 17
        },
        "id": "vTaSIzcAcWE5",
        "outputId": "98e680fd-6bcd-4f65-b6fc-c837937b8851"
      },
      "execution_count": null,
      "outputs": [
        {
          "output_type": "display_data",
          "data": {
            "text/plain": [
              "<IPython.core.display.Javascript object>"
            ],
            "application/javascript": [
              "\n",
              "    async function download(id, filename, size) {\n",
              "      if (!google.colab.kernel.accessAllowed) {\n",
              "        return;\n",
              "      }\n",
              "      const div = document.createElement('div');\n",
              "      const label = document.createElement('label');\n",
              "      label.textContent = `Downloading \"${filename}\": `;\n",
              "      div.appendChild(label);\n",
              "      const progress = document.createElement('progress');\n",
              "      progress.max = size;\n",
              "      div.appendChild(progress);\n",
              "      document.body.appendChild(div);\n",
              "\n",
              "      const buffers = [];\n",
              "      let downloaded = 0;\n",
              "\n",
              "      const channel = await google.colab.kernel.comms.open(id);\n",
              "      // Send a message to notify the kernel that we're ready.\n",
              "      channel.send({})\n",
              "\n",
              "      for await (const message of channel.messages) {\n",
              "        // Send a message to notify the kernel that we're ready.\n",
              "        channel.send({})\n",
              "        if (message.buffers) {\n",
              "          for (const buffer of message.buffers) {\n",
              "            buffers.push(buffer);\n",
              "            downloaded += buffer.byteLength;\n",
              "            progress.value = downloaded;\n",
              "          }\n",
              "        }\n",
              "      }\n",
              "      const blob = new Blob(buffers, {type: 'application/binary'});\n",
              "      const a = document.createElement('a');\n",
              "      a.href = window.URL.createObjectURL(blob);\n",
              "      a.download = filename;\n",
              "      div.appendChild(a);\n",
              "      a.click();\n",
              "      div.remove();\n",
              "    }\n",
              "  "
            ]
          },
          "metadata": {}
        },
        {
          "output_type": "display_data",
          "data": {
            "text/plain": [
              "<IPython.core.display.Javascript object>"
            ],
            "application/javascript": [
              "download(\"download_9a26110e-3478-4b2f-90ed-a177d6ce0f32\", \"produk.csv\", 505)"
            ]
          },
          "metadata": {}
        }
      ]
    },
    {
      "cell_type": "code",
      "source": [
        "itemid = []\n",
        "for i in range(len(userarr)):\n",
        "    itemid.append(produksort)\n",
        "itemid2 = []\n",
        "for sublist in itemid:\n",
        "    itemid2.extend(sublist)\n",
        "print(itemid2)"
      ],
      "metadata": {
        "colab": {
          "base_uri": "https://localhost:8080/"
        },
        "id": "SFxk9X0qnhvf",
        "outputId": "1d34315d-487b-4759-a12a-a4d0e31403aa"
      },
      "execution_count": null,
      "outputs": [
        {
          "output_type": "stream",
          "name": "stdout",
          "text": [
            "[1, 2, 3, 4, 5, 6, 7, 8, 9, 10, 11, 12, 13, 14, 15, 16, 17, 18, 19, 20, 21, 22, 23, 24, 25, 26, 27, 28, 29, 30, 31, 32, 33, 34, 35, 36, 1, 2, 3, 4, 5, 6, 7, 8, 9, 10, 11, 12, 13, 14, 15, 16, 17, 18, 19, 20, 21, 22, 23, 24, 25, 26, 27, 28, 29, 30, 31, 32, 33, 34, 35, 36, 1, 2, 3, 4, 5, 6, 7, 8, 9, 10, 11, 12, 13, 14, 15, 16, 17, 18, 19, 20, 21, 22, 23, 24, 25, 26, 27, 28, 29, 30, 31, 32, 33, 34, 35, 36, 1, 2, 3, 4, 5, 6, 7, 8, 9, 10, 11, 12, 13, 14, 15, 16, 17, 18, 19, 20, 21, 22, 23, 24, 25, 26, 27, 28, 29, 30, 31, 32, 33, 34, 35, 36, 1, 2, 3, 4, 5, 6, 7, 8, 9, 10, 11, 12, 13, 14, 15, 16, 17, 18, 19, 20, 21, 22, 23, 24, 25, 26, 27, 28, 29, 30, 31, 32, 33, 34, 35, 36, 1, 2, 3, 4, 5, 6, 7, 8, 9, 10, 11, 12, 13, 14, 15, 16, 17, 18, 19, 20, 21, 22, 23, 24, 25, 26, 27, 28, 29, 30, 31, 32, 33, 34, 35, 36, 1, 2, 3, 4, 5, 6, 7, 8, 9, 10, 11, 12, 13, 14, 15, 16, 17, 18, 19, 20, 21, 22, 23, 24, 25, 26, 27, 28, 29, 30, 31, 32, 33, 34, 35, 36, 1, 2, 3, 4, 5, 6, 7, 8, 9, 10, 11, 12, 13, 14, 15, 16, 17, 18, 19, 20, 21, 22, 23, 24, 25, 26, 27, 28, 29, 30, 31, 32, 33, 34, 35, 36, 1, 2, 3, 4, 5, 6, 7, 8, 9, 10, 11, 12, 13, 14, 15, 16, 17, 18, 19, 20, 21, 22, 23, 24, 25, 26, 27, 28, 29, 30, 31, 32, 33, 34, 35, 36, 1, 2, 3, 4, 5, 6, 7, 8, 9, 10, 11, 12, 13, 14, 15, 16, 17, 18, 19, 20, 21, 22, 23, 24, 25, 26, 27, 28, 29, 30, 31, 32, 33, 34, 35, 36, 1, 2, 3, 4, 5, 6, 7, 8, 9, 10, 11, 12, 13, 14, 15, 16, 17, 18, 19, 20, 21, 22, 23, 24, 25, 26, 27, 28, 29, 30, 31, 32, 33, 34, 35, 36, 1, 2, 3, 4, 5, 6, 7, 8, 9, 10, 11, 12, 13, 14, 15, 16, 17, 18, 19, 20, 21, 22, 23, 24, 25, 26, 27, 28, 29, 30, 31, 32, 33, 34, 35, 36, 1, 2, 3, 4, 5, 6, 7, 8, 9, 10, 11, 12, 13, 14, 15, 16, 17, 18, 19, 20, 21, 22, 23, 24, 25, 26, 27, 28, 29, 30, 31, 32, 33, 34, 35, 36, 1, 2, 3, 4, 5, 6, 7, 8, 9, 10, 11, 12, 13, 14, 15, 16, 17, 18, 19, 20, 21, 22, 23, 24, 25, 26, 27, 28, 29, 30, 31, 32, 33, 34, 35, 36, 1, 2, 3, 4, 5, 6, 7, 8, 9, 10, 11, 12, 13, 14, 15, 16, 17, 18, 19, 20, 21, 22, 23, 24, 25, 26, 27, 28, 29, 30, 31, 32, 33, 34, 35, 36, 1, 2, 3, 4, 5, 6, 7, 8, 9, 10, 11, 12, 13, 14, 15, 16, 17, 18, 19, 20, 21, 22, 23, 24, 25, 26, 27, 28, 29, 30, 31, 32, 33, 34, 35, 36, 1, 2, 3, 4, 5, 6, 7, 8, 9, 10, 11, 12, 13, 14, 15, 16, 17, 18, 19, 20, 21, 22, 23, 24, 25, 26, 27, 28, 29, 30, 31, 32, 33, 34, 35, 36, 1, 2, 3, 4, 5, 6, 7, 8, 9, 10, 11, 12, 13, 14, 15, 16, 17, 18, 19, 20, 21, 22, 23, 24, 25, 26, 27, 28, 29, 30, 31, 32, 33, 34, 35, 36, 1, 2, 3, 4, 5, 6, 7, 8, 9, 10, 11, 12, 13, 14, 15, 16, 17, 18, 19, 20, 21, 22, 23, 24, 25, 26, 27, 28, 29, 30, 31, 32, 33, 34, 35, 36, 1, 2, 3, 4, 5, 6, 7, 8, 9, 10, 11, 12, 13, 14, 15, 16, 17, 18, 19, 20, 21, 22, 23, 24, 25, 26, 27, 28, 29, 30, 31, 32, 33, 34, 35, 36, 1, 2, 3, 4, 5, 6, 7, 8, 9, 10, 11, 12, 13, 14, 15, 16, 17, 18, 19, 20, 21, 22, 23, 24, 25, 26, 27, 28, 29, 30, 31, 32, 33, 34, 35, 36, 1, 2, 3, 4, 5, 6, 7, 8, 9, 10, 11, 12, 13, 14, 15, 16, 17, 18, 19, 20, 21, 22, 23, 24, 25, 26, 27, 28, 29, 30, 31, 32, 33, 34, 35, 36, 1, 2, 3, 4, 5, 6, 7, 8, 9, 10, 11, 12, 13, 14, 15, 16, 17, 18, 19, 20, 21, 22, 23, 24, 25, 26, 27, 28, 29, 30, 31, 32, 33, 34, 35, 36, 1, 2, 3, 4, 5, 6, 7, 8, 9, 10, 11, 12, 13, 14, 15, 16, 17, 18, 19, 20, 21, 22, 23, 24, 25, 26, 27, 28, 29, 30, 31, 32, 33, 34, 35, 36, 1, 2, 3, 4, 5, 6, 7, 8, 9, 10, 11, 12, 13, 14, 15, 16, 17, 18, 19, 20, 21, 22, 23, 24, 25, 26, 27, 28, 29, 30, 31, 32, 33, 34, 35, 36, 1, 2, 3, 4, 5, 6, 7, 8, 9, 10, 11, 12, 13, 14, 15, 16, 17, 18, 19, 20, 21, 22, 23, 24, 25, 26, 27, 28, 29, 30, 31, 32, 33, 34, 35, 36, 1, 2, 3, 4, 5, 6, 7, 8, 9, 10, 11, 12, 13, 14, 15, 16, 17, 18, 19, 20, 21, 22, 23, 24, 25, 26, 27, 28, 29, 30, 31, 32, 33, 34, 35, 36]\n"
          ]
        }
      ]
    },
    {
      "cell_type": "code",
      "source": [
        "#Create the data and export it\n",
        "output=pd.DataFrame([userid,itemid2,rating]).T.rename({0:'userid',1:'produkid',2:'rating'},axis=1)\n",
        "output.to_csv('rating.csv',index=False)"
      ],
      "metadata": {
        "id": "szcONX5ikIrT"
      },
      "execution_count": null,
      "outputs": []
    },
    {
      "cell_type": "code",
      "source": [
        "#Create the data and export it\n",
        "output=pd.DataFrame([userid,itemid2,rating]).T.rename({0:'userid',1:'produkid',2:'rating'},axis=1)\n",
        "output.to_csv('rating.csv',index=False)"
      ],
      "metadata": {
        "id": "MzXtOmhSl10Z"
      },
      "execution_count": null,
      "outputs": []
    },
    {
      "cell_type": "code",
      "source": [
        "files.download('rating.csv')"
      ],
      "metadata": {
        "colab": {
          "base_uri": "https://localhost:8080/",
          "height": 17
        },
        "id": "gO0QBRxitsPW",
        "outputId": "20eb10e4-0020-47d6-cb87-df7d2517d029"
      },
      "execution_count": null,
      "outputs": [
        {
          "output_type": "display_data",
          "data": {
            "text/plain": [
              "<IPython.core.display.Javascript object>"
            ],
            "application/javascript": [
              "\n",
              "    async function download(id, filename, size) {\n",
              "      if (!google.colab.kernel.accessAllowed) {\n",
              "        return;\n",
              "      }\n",
              "      const div = document.createElement('div');\n",
              "      const label = document.createElement('label');\n",
              "      label.textContent = `Downloading \"${filename}\": `;\n",
              "      div.appendChild(label);\n",
              "      const progress = document.createElement('progress');\n",
              "      progress.max = size;\n",
              "      div.appendChild(progress);\n",
              "      document.body.appendChild(div);\n",
              "\n",
              "      const buffers = [];\n",
              "      let downloaded = 0;\n",
              "\n",
              "      const channel = await google.colab.kernel.comms.open(id);\n",
              "      // Send a message to notify the kernel that we're ready.\n",
              "      channel.send({})\n",
              "\n",
              "      for await (const message of channel.messages) {\n",
              "        // Send a message to notify the kernel that we're ready.\n",
              "        channel.send({})\n",
              "        if (message.buffers) {\n",
              "          for (const buffer of message.buffers) {\n",
              "            buffers.push(buffer);\n",
              "            downloaded += buffer.byteLength;\n",
              "            progress.value = downloaded;\n",
              "          }\n",
              "        }\n",
              "      }\n",
              "      const blob = new Blob(buffers, {type: 'application/binary'});\n",
              "      const a = document.createElement('a');\n",
              "      a.href = window.URL.createObjectURL(blob);\n",
              "      a.download = filename;\n",
              "      div.appendChild(a);\n",
              "      a.click();\n",
              "      div.remove();\n",
              "    }\n",
              "  "
            ]
          },
          "metadata": {}
        },
        {
          "output_type": "display_data",
          "data": {
            "text/plain": [
              "<IPython.core.display.Javascript object>"
            ],
            "application/javascript": [
              "download(\"download_f8dd2c4e-218f-43d6-996d-3a4c4f39d42a\", \"rating.csv\", 7196)"
            ]
          },
          "metadata": {}
        }
      ]
    }
  ]
}